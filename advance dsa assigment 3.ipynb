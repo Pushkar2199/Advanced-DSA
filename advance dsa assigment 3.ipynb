{
 "cells": [
  {
   "cell_type": "markdown",
   "id": "135e8cd6",
   "metadata": {},
   "source": [
    "## 1)Implement Binary tree"
   ]
  },
  {
   "cell_type": "code",
   "execution_count": 10,
   "id": "7e305fbe",
   "metadata": {},
   "outputs": [
    {
     "name": "stdout",
     "output_type": "stream",
     "text": [
      "3 6 12 14 "
     ]
    }
   ],
   "source": [
    "class Node:\n",
    "    def __init__(self, data):\n",
    "        self.left = None\n",
    "        self.right = None\n",
    "        self.data = data\n",
    "\n",
    "    def insert(self, data):\n",
    "        # Compare the new value with the parent node\n",
    "        if self.data:\n",
    "            if data < self.data:\n",
    "                if self.left is None:\n",
    "                    self.left = Node(data)\n",
    "                else:\n",
    "                     self.left.insert(data)\n",
    "            elif data > self.data:\n",
    "                if self.right is None:\n",
    "                    self.right = Node(data)\n",
    "            else:\n",
    "                 self.right.insert(data)\n",
    "        else:\n",
    "             self.data = data\n",
    "\n",
    "# Print the tree\n",
    "    def PrintTree(self):\n",
    "        if self.left:\n",
    "            self.left.PrintTree()\n",
    "        print( self.data,end = \" \")\n",
    "        if self.right:\n",
    "            self.right.PrintTree()\n",
    "\n",
    "# Use the insert method to add nodes\n",
    "root = Node(12)\n",
    "root.insert(6)\n",
    "root.insert(14)\n",
    "root.insert(3)\n",
    "root.PrintTree()"
   ]
  },
  {
   "cell_type": "markdown",
   "id": "28d464e6",
   "metadata": {},
   "source": [
    "## 2) Find height of a given tree"
   ]
  },
  {
   "cell_type": "code",
   "execution_count": 18,
   "id": "ed15aac8",
   "metadata": {},
   "outputs": [
    {
     "name": "stdout",
     "output_type": "stream",
     "text": [
      "height of tree is  2\n"
     ]
    }
   ],
   "source": [
    "class Node:\n",
    "    def __init__(self, data):\n",
    "        self.data = data\n",
    "        self.left = None\n",
    "        self.right = None\n",
    "\n",
    "def maxDepth(node):\n",
    "    if node is None:\n",
    "        return -1 ;\n",
    "\n",
    "    else :\n",
    "        lDepth = maxDepth(node.left)\n",
    "        rDepth = maxDepth(node.right)\n",
    "\n",
    "        if (lDepth > rDepth):\n",
    "            return lDepth+1\n",
    "        else:\n",
    "            return rDepth+1\n",
    "root = Node(1)\n",
    "root.left = Node(2)\n",
    "root.right = Node(3)\n",
    "root.left.left = Node(4)\n",
    "root.left.right = Node(5)\n",
    "\n",
    "print(\"height of tree is \",(maxDepth(root)))\n",
    "\n"
   ]
  },
  {
   "cell_type": "markdown",
   "id": "336795e1",
   "metadata": {},
   "source": [
    "##  3) Perform Pre-order, Post-order, In-order traversal"
   ]
  },
  {
   "cell_type": "code",
   "execution_count": 43,
   "id": "232bc474",
   "metadata": {},
   "outputs": [
    {
     "name": "stdout",
     "output_type": "stream",
     "text": [
      "Pre order Traversal: 1 2 4 3 \n",
      "In order Traversal: 4 2 1 3 \n",
      "Post order Traversal: 4 2 3 1 "
     ]
    }
   ],
   "source": [
    "# Binary Tree in Python\n",
    "\n",
    "class Node:\n",
    "    def __init__(self, key):\n",
    "        self.left = None\n",
    "        self.right = None\n",
    "        self.val = key\n",
    "\n",
    "    # Traverse preorder\n",
    "    def traversePreOrder(self):\n",
    "        print(self.val, end=' ')\n",
    "        if self.left:\n",
    "            self.left.traversePreOrder()\n",
    "        if self.right:\n",
    "            self.right.traversePreOrder()\n",
    "\n",
    "    # Traverse inorder\n",
    "    def traverseInOrder(self):\n",
    "        if self.left:\n",
    "            self.left.traverseInOrder()\n",
    "        print(self.val, end=' ')\n",
    "        if self.right:\n",
    "            self.right.traverseInOrder()\n",
    "\n",
    "    # Traverse postorder\n",
    "    def traversePostOrder(self):\n",
    "        if self.left:\n",
    "            self.left.traversePostOrder()\n",
    "        if self.right:\n",
    "            self.right.traversePostOrder()\n",
    "        print(self.val, end=' ')\n",
    "\n",
    "\n",
    "root = Node(1)\n",
    "\n",
    "root.left = Node(2)\n",
    "root.right = Node(3)\n",
    "\n",
    "root.left.left = Node(4)\n",
    "\n",
    "print(\"Pre order Traversal: \", end=\"\")\n",
    "root.traversePreOrder()\n",
    "print(\"\\nIn order Traversal: \", end=\"\")\n",
    "root.traverseInOrder()\n",
    "print(\"\\nPost order Traversal: \", end=\"\")\n",
    "root.traversePostOrder()"
   ]
  },
  {
   "cell_type": "markdown",
   "id": "4b97099d",
   "metadata": {},
   "source": [
    "## 4) Function to print all the leaves in a given binary tree"
   ]
  },
  {
   "cell_type": "code",
   "execution_count": 22,
   "id": "6d1f7d2b",
   "metadata": {},
   "outputs": [
    {
     "name": "stdout",
     "output_type": "stream",
     "text": [
      "4 6 7 9 10 "
     ]
    }
   ],
   "source": [
    "class Node:\n",
    "    def __init__(self, data):\n",
    "        self.data = data\n",
    "        self.left = None\n",
    "        self.right = None\n",
    "\n",
    "def printLeafNodes(root: Node) -> None:\n",
    "    if (not root):\n",
    "        return\n",
    "    if (not root.left and\n",
    "        not root.right):\n",
    "        print(root.data,end = \" \")\n",
    "        return\n",
    "    if root.left:\n",
    "        printLeafNodes(root.left)\n",
    "    if root.right:\n",
    "        printLeafNodes(root.right)\n",
    "\n",
    "root = Node(1)\n",
    "root.left = Node(2)\n",
    "root.right = Node(3)\n",
    "root.left.left = Node(4)\n",
    "root.right.left = Node(5)\n",
    "root.right.right = Node(8)\n",
    "root.right.left.left = Node(6)\n",
    "root.right.left.right = Node(7)\n",
    "root.right.right.left = Node(9)\n",
    "root.right.right.right = Node(10)\n",
    "printLeafNodes(root)\n",
    "\n",
    "\n"
   ]
  },
  {
   "cell_type": "markdown",
   "id": "a89d3eb6",
   "metadata": {},
   "source": [
    "## 5)Implement BFS (Breath First Search) and DFS (Depth First Search)"
   ]
  },
  {
   "cell_type": "code",
   "execution_count": 3,
   "id": "97c8458a",
   "metadata": {},
   "outputs": [
    {
     "name": "stdout",
     "output_type": "stream",
     "text": [
      "Following is Breadth First Traversal: 0 1 2 3 "
     ]
    }
   ],
   "source": [
    "import collections\n",
    "def bfs(graph, root):\n",
    "    visited, queue = set(), collections.deque([root])\n",
    "    visited.add(root)\n",
    "    while queue:\n",
    "        vertex = queue.popleft()\n",
    "        print(str(vertex) + \" \", end=\"\")\n",
    "\n",
    "        # If not visited, mark it as visited, and\n",
    "        # enqueue it\n",
    "        for neighbour in graph[vertex]:\n",
    "            if neighbour not in visited:\n",
    "                visited.add(neighbour)\n",
    "                queue.append(neighbour)\n",
    "\n",
    "\n",
    "if __name__ == '__main__':\n",
    "    graph = {0: [1, 2], 1: [2], 2: [3], 3: [1, 2]}\n",
    "    print(\"Following is Breadth First Traversal: \",end = \"\")\n",
    "    bfs(graph, 0)\n"
   ]
  },
  {
   "cell_type": "code",
   "execution_count": 2,
   "id": "7193cdb9",
   "metadata": {},
   "outputs": [
    {
     "name": "stdout",
     "output_type": "stream",
     "text": [
      "0\n",
      "2\n",
      "1\n",
      "3\n",
      "4\n"
     ]
    },
    {
     "data": {
      "text/plain": [
       "{'0', '1', '2', '3', '4'}"
      ]
     },
     "execution_count": 2,
     "metadata": {},
     "output_type": "execute_result"
    }
   ],
   "source": [
    "def dfs(graph, start, visited=None):\n",
    "    if visited is None:\n",
    "        visited = set()\n",
    "    visited.add(start)\n",
    "    print(start)\n",
    "    for next in graph[start] - visited:\n",
    "        dfs(graph, next, visited)\n",
    "    return visited\n",
    "graph = {'0': set(['1', '2']),\n",
    "         '1': set(['0', '3', '4']),\n",
    "         '2': set(['0']),\n",
    "         '3': set(['1']),\n",
    "         '4': set(['2', '3'])}\n",
    "dfs(graph, '0')"
   ]
  },
  {
   "cell_type": "markdown",
   "id": "967b9a98",
   "metadata": {},
   "source": [
    "## 6) Find sum of all left leaves in a given Binary Tree"
   ]
  },
  {
   "cell_type": "code",
   "execution_count": 13,
   "id": "9dc1c4cf",
   "metadata": {},
   "outputs": [
    {
     "name": "stdout",
     "output_type": "stream",
     "text": [
      "Sum of left leaves is 78\n"
     ]
    }
   ],
   "source": [
    "class Node: \n",
    "  \n",
    "    # A constructor to create a new Node \n",
    "    def __init__(self, key): \n",
    "        self.key = key \n",
    "        self.left = None\n",
    "        self.right = None\n",
    "  \n",
    "    def leftLeavesSumRec(root, isLeft, summ): \n",
    "        if root is None: \n",
    "            return\n",
    "        if root.left is None and root.right is None and isLeft == True: \n",
    "            summ[0] += root.key \n",
    "\n",
    "        leftLeavesSumRec(root.left, 1, summ) \n",
    "        leftLeavesSumRec(root.right, 0, summ) \n",
    "\n",
    "    def leftLeavesSum(root): \n",
    "        summ = [0] \n",
    "        leftLeavesSumRec(root, 0, summ)       \n",
    "        return summ[0] \n",
    "\n",
    "root = Node(20); \n",
    "root.left= Node(9); \n",
    "root.right   = Node(49); \n",
    "root.right.left = Node(23); \n",
    "root.right.right= Node(52); \n",
    "root.right.right.left  = Node(50); \n",
    "root.left.left  = Node(5); \n",
    "root.left.right = Node(12); \n",
    "root.left.right.right  = Node(12); \n",
    "  \n",
    "print(\"Sum of left leaves is\", leftLeavesSum(root))\n"
   ]
  },
  {
   "cell_type": "markdown",
   "id": "63e22bf3",
   "metadata": {},
   "source": [
    "## 7) Find sum of all nodes of the given perfect binary tree"
   ]
  },
  {
   "cell_type": "code",
   "execution_count": 17,
   "id": "ef3daf4f",
   "metadata": {},
   "outputs": [
    {
     "name": "stdout",
     "output_type": "stream",
     "text": [
      "Sum of all the nodes is: 36\n"
     ]
    }
   ],
   "source": [
    "class Node:\n",
    "\n",
    "    def __init__(self, key):\n",
    "        self.key = key\n",
    "        self.left = None\n",
    "        self.right = None\n",
    "\n",
    "def addBT(root):\n",
    "    if (root == None):\n",
    "        return 0\n",
    "    return (root.key + addBT(root.left) + addBT(root.right))\n",
    "\n",
    "root = Node(1)\n",
    "root.left = Node(2)\n",
    "root.right = Node(3)\n",
    "root.left.left = Node(4)\n",
    "root.left.right = Node(5)\n",
    "root.right.left = Node(6)\n",
    "root.right.right = Node(7)\n",
    "root.right.left.right = Node(8) \n",
    "\n",
    "print(\"Sum of all the nodes is:\", addBT(root))\n",
    "\n"
   ]
  },
  {
   "cell_type": "markdown",
   "id": "ed1a71d4",
   "metadata": {},
   "source": [
    "## 8) Count subtress that sum up to a given value x in a binary tree"
   ]
  },
  {
   "cell_type": "code",
   "execution_count": 20,
   "id": "3b925017",
   "metadata": {},
   "outputs": [
    {
     "name": "stdout",
     "output_type": "stream",
     "text": [
      "Count = 2\n"
     ]
    }
   ],
   "source": [
    "class getNode:\n",
    "    def __init__(self, data):\n",
    "        self.data = data\n",
    "        self.left = self.right = None\n",
    "\n",
    "def countSubtreesWithSumX(root, count, x):\n",
    "    if (not root):\n",
    "        return 0\n",
    "    \n",
    "    ls = countSubtreesWithSumX(root.left,count, x)\n",
    "    \n",
    "    rs = countSubtreesWithSumX(root.right,count, x)\n",
    "\n",
    "    Sum = ls + rs + root.data\n",
    "    if (Sum == x):\n",
    "        count[0] += 1\n",
    "    return Sum\n",
    "\n",
    "def countSubtreesWithSumXUtil(root, x):\n",
    "    if (not root):\n",
    "        return 0\n",
    " \n",
    "    count = [0]\n",
    "    \n",
    "    ls = countSubtreesWithSumX(root.left,count, x)\n",
    "    rs = countSubtreesWithSumX(root.right,count, x)\n",
    " \n",
    "    if ((ls + rs + root.data) == x):count[0] += 1\n",
    "    return count[0]\n",
    " \n",
    "root = getNode(5)\n",
    "root.left = getNode(-10)\n",
    "root.right = getNode(3)\n",
    "root.left.left = getNode(9)\n",
    "root.left.right = getNode(8)\n",
    "root.right.left = getNode(-4)\n",
    "root.right.right = getNode(7)\n",
    "x = 7\n",
    "print(\"Count =\",countSubtreesWithSumXUtil(root, x))\n",
    " "
   ]
  },
  {
   "cell_type": "markdown",
   "id": "524c9878",
   "metadata": {},
   "source": [
    "## 9) Find maximum level sum in Binary Tree"
   ]
  },
  {
   "cell_type": "code",
   "execution_count": 22,
   "id": "671fb351",
   "metadata": {},
   "outputs": [
    {
     "name": "stdout",
     "output_type": "stream",
     "text": [
      "17\n"
     ]
    }
   ],
   "source": [
    "class Node:\n",
    "    def __init__(self, key):\n",
    "        self.val = key\n",
    "        self.left = self.right = None\n",
    "        \n",
    "def newNode(data):\n",
    " \n",
    "    node = Node(0)\n",
    "    node.data = data\n",
    "    node.left = node.right = None\n",
    "    return (node)\n",
    "\n",
    "def maxLevel( root):\n",
    " \n",
    "    if (root == None):\n",
    "        return 0\n",
    "    return (1 + max(maxLevel(root.left),maxLevel(root.right)))\n",
    " \n",
    "sum = []\n",
    "\n",
    "def maxLevelSum_( root, max_level , current):\n",
    " \n",
    "    global sum\n",
    "\n",
    "    if (root == None):\n",
    "        return\n",
    "\n",
    "    sum[current] += root.data\n",
    "    maxLevelSum_(root.left, max_level,current + 1)\n",
    "\n",
    "    maxLevelSum_(root.right, max_level,current + 1)\n",
    "def maxLevelSum( root):\n",
    " \n",
    "    global sum\n",
    "    max_level = maxLevel(root)\n",
    "\n",
    "    i = 0\n",
    "    sum = [None] * (max_level + 2)\n",
    "    while(i <= max_level + 1):\n",
    "        sum[i] = 0\n",
    "        i = i + 1\n",
    "\n",
    "    maxLevelSum_(root, max_level, 1)\n",
    "\n",
    "    maxSum = 0\n",
    "    i = 1\n",
    "    while ( i <= max_level ):\n",
    "        maxSum = max(maxSum, sum[i])\n",
    "        i = i + 1\n",
    "    return maxSum\n",
    "\n",
    "root = newNode(1)\n",
    "root.left = newNode(2)\n",
    "root.right = newNode(3)\n",
    "root.left.left = newNode(4)\n",
    "root.left.right = newNode(5)\n",
    "root.right.right = newNode(8)\n",
    "root.right.right.left = newNode(6)\n",
    "root.right.right.right = newNode(7)\n",
    " \n",
    "print( maxLevelSum(root))"
   ]
  },
  {
   "cell_type": "markdown",
   "id": "398ed89e",
   "metadata": {},
   "source": [
    "## 10) Print the nodes at odd levels of a tree"
   ]
  },
  {
   "cell_type": "code",
   "execution_count": 24,
   "id": "bdce3c8e",
   "metadata": {},
   "outputs": [
    {
     "name": "stdout",
     "output_type": "stream",
     "text": [
      "1 4 5 "
     ]
    }
   ],
   "source": [
    "class Node: \n",
    "    def __init__(self, data): \n",
    "        self.data = data  \n",
    "        self.left = self.right = None\n",
    "        \n",
    "def printOddNodes(root, isOdd = True): \n",
    "    if (root == None):  \n",
    "        return\n",
    "\n",
    "    if (isOdd):  \n",
    "        print(root.data, end = \" \") \n",
    "        \n",
    "    printOddNodes(root.left, not isOdd)  \n",
    "    printOddNodes(root.right, not isOdd) \n",
    "\n",
    "root = Node(1)  \n",
    "root.left = Node(2)  \n",
    "root.right = Node(3)  \n",
    "root.left.left = Node(4)  \n",
    "root.left.right = Node(5)  \n",
    "printOddNodes(root)"
   ]
  },
  {
   "cell_type": "code",
   "execution_count": null,
   "id": "12985805",
   "metadata": {},
   "outputs": [],
   "source": []
  }
 ],
 "metadata": {
  "interpreter": {
   "hash": "eaa74586375ce4ae0917e5b89fd5b31b7058e6cd9616bdac2a71ee13725187af"
  },
  "kernelspec": {
   "display_name": "Python 3 (ipykernel)",
   "language": "python",
   "name": "python3"
  },
  "language_info": {
   "codemirror_mode": {
    "name": "ipython",
    "version": 3
   },
   "file_extension": ".py",
   "mimetype": "text/x-python",
   "name": "python",
   "nbconvert_exporter": "python",
   "pygments_lexer": "ipython3",
   "version": "3.10.2"
  }
 },
 "nbformat": 4,
 "nbformat_minor": 5
}
