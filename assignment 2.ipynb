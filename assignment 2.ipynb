{
 "cells": [
  {
   "cell_type": "markdown",
   "id": "518c427a",
   "metadata": {},
   "source": [
    "## Binary Search"
   ]
  },
  {
   "cell_type": "code",
   "execution_count": 1,
   "id": "7ca12577",
   "metadata": {},
   "outputs": [
    {
     "name": "stdout",
     "output_type": "stream",
     "text": [
      "[-1, 0, 2, 6, 8, 9, 10, 15, 75]\n"
     ]
    }
   ],
   "source": [
    "l = [2,15,8,9,0,6,75,-1,10]\n",
    "\n",
    "def Binary(s,low,high) :\n",
    "    \n",
    "    n = len(s)\n",
    "    for i in range(n-1) :\n",
    "        low = l[i]\n",
    "        high = n - 1\n",
    "        mid = ( low + high )//2\n",
    "        for j in range(0,n-i-1) :\n",
    "            if l[j] > l[j+1] :\n",
    "                l[j], l[j+1] = l[j+1] , l[j] \n",
    "    print(l)            \n",
    "            \n",
    "Binary(l,8,0)    \n",
    "    "
   ]
  },
  {
   "cell_type": "markdown",
   "id": "b890a0e6",
   "metadata": {},
   "source": [
    "## Implement Merge Sort"
   ]
  },
  {
   "cell_type": "code",
   "execution_count": 5,
   "id": "c6199f4f",
   "metadata": {},
   "outputs": [
    {
     "name": "stdout",
     "output_type": "stream",
     "text": [
      "Sorted array is: \n",
      "1 5 6 9 10 12 "
     ]
    }
   ],
   "source": [
    "def mergeSort(array):\n",
    "    if len(array) > 1:\n",
    "        r = len(array)//2\n",
    "        L = array[:r]\n",
    "        M = array[r:]\n",
    "        mergeSort(L)\n",
    "        mergeSort(M)\n",
    "        i = j = k = 0\n",
    "        while i < len(L) and j < len(M):\n",
    "            if L[i] < M[j]:\n",
    "                array[k] = L[i]\n",
    "                i += 1\n",
    "            else:\n",
    "                array[k] = M[j]\n",
    "                j += 1\n",
    "            k += 1\n",
    "        while i < len(L):\n",
    "            array[k] = L[i]\n",
    "            i += 1\n",
    "            k += 1\n",
    "        while j < len(M):\n",
    "            array[k] = M[j]\n",
    "            j += 1\n",
    "            k += 1\n",
    "def printList(array):\n",
    "    for i in range(len(array)):\n",
    "        print(array[i], end=\" \")\n",
    "array = [6, 5, 12, 10, 9, 1]\n",
    "mergeSort(array)\n",
    "print(\"Sorted array is: \")\n",
    "printList(array)"
   ]
  },
  {
   "cell_type": "markdown",
   "id": "89b477de",
   "metadata": {},
   "source": [
    "## Implement Quick Sort"
   ]
  },
  {
   "cell_type": "code",
   "execution_count": 17,
   "id": "b10be44c",
   "metadata": {},
   "outputs": [
    {
     "name": "stdout",
     "output_type": "stream",
     "text": [
      "Unsorted Array : [8, 7, 2, 1, 0, 9, 6]\n",
      "Sorted Array in Ascending Order : [2, 1, 0, 8, 7, 9, 6]\n"
     ]
    }
   ],
   "source": [
    "def partition(array, low, high):\n",
    "    pivot = array[high]\n",
    "    i = low - 1\n",
    "    for j in range(low, high):\n",
    "        if array[j] <= pivot:\n",
    "            i = i + 1\n",
    "            (array[i], array[j]) = (array[j], array[i])\n",
    "            (array[i + 1], array[high]) = (array[high], array[i + 1])\n",
    "    return i + 1\n",
    "\n",
    "def quickSort(array, low, high):\n",
    "    if low < high:\n",
    "        pi = partition(array, low, high)\n",
    "        quickSort(array, low, pi - 1)\n",
    "        quickSort(array, pi + 1, high)\n",
    "\n",
    "data = [8, 7, 2, 1, 0, 9, 6]\n",
    "print(\"Unsorted Array :\",data)\n",
    "\n",
    "size = len(data)\n",
    "\n",
    "quickSort(data, 0, size - 1)\n",
    "\n",
    "print('Sorted Array in Ascending Order :',data)\n"
   ]
  },
  {
   "cell_type": "markdown",
   "id": "4b976121",
   "metadata": {},
   "source": [
    "## Implement Insertion Sort"
   ]
  },
  {
   "cell_type": "code",
   "execution_count": 20,
   "id": "07ad19a6",
   "metadata": {},
   "outputs": [
    {
     "name": "stdout",
     "output_type": "stream",
     "text": [
      "Sorted Array : [1, 3, 4, 5, 9]\n"
     ]
    }
   ],
   "source": [
    "def insertionSort(array):\n",
    "    for step in range(1, len(array)):\n",
    "        key = array[step]\n",
    "        j = step - 1      \n",
    "        while j >= 0 and key < array[j]:\n",
    "            array[j + 1] = array[j]\n",
    "            j = j - 1        \n",
    "        array[j + 1] = key\n",
    "\n",
    "\n",
    "data = [9, 5, 1, 4, 3]\n",
    "insertionSort(data)\n",
    "print('Sorted Array :',data)\n"
   ]
  },
  {
   "cell_type": "markdown",
   "id": "dacdc32c",
   "metadata": {},
   "source": [
    "## Write a program to sort list of strings"
   ]
  },
  {
   "cell_type": "code",
   "execution_count": 26,
   "id": "f46ffc96",
   "metadata": {},
   "outputs": [
    {
     "data": {
      "text/plain": [
       "['as', 'dfvn', 'dkjh', 'f', 'vrg']"
      ]
     },
     "execution_count": 26,
     "metadata": {},
     "output_type": "execute_result"
    }
   ],
   "source": [
    "l = [\"f\",\"dkjh\",\"as\",\"dfvn\",\"vrg\"]\n",
    "def sorted(l) :\n",
    "    l.sort()\n",
    "    return l\n",
    "sorted(l)    \n",
    "        "
   ]
  },
  {
   "cell_type": "code",
   "execution_count": null,
   "id": "ad87b392",
   "metadata": {},
   "outputs": [],
   "source": []
  }
 ],
 "metadata": {
  "kernelspec": {
   "display_name": "Python 3 (ipykernel)",
   "language": "python",
   "name": "python3"
  },
  "language_info": {
   "codemirror_mode": {
    "name": "ipython",
    "version": 3
   },
   "file_extension": ".py",
   "mimetype": "text/x-python",
   "name": "python",
   "nbconvert_exporter": "python",
   "pygments_lexer": "ipython3",
   "version": "3.10.2"
  }
 },
 "nbformat": 4,
 "nbformat_minor": 5
}
