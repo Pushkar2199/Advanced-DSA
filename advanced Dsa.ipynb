{
 "cells": [
  {
   "cell_type": "markdown",
   "id": "3b666ace",
   "metadata": {},
   "source": [
    "## 1) Delete the elements in an linked list whose sum is equal to zero"
   ]
  },
  {
   "cell_type": "code",
   "execution_count": 10,
   "id": "7db1327e",
   "metadata": {},
   "outputs": [
    {
     "name": "stdout",
     "output_type": "stream",
     "text": [
      "[20, 25]\n"
     ]
    }
   ],
   "source": [
    "class Node():\n",
    "  def __init__(self,data):\n",
    "     self.data = data\n",
    "     self.next = None\n",
    "\n",
    "class Linkedlist():\n",
    "   def __init__(self):\n",
    "     self.head = None\n",
    "\n",
    "   def append(self,data):\n",
    "     new_node = Node(data)\n",
    "     h = self.head\n",
    "     if self.head is None:\n",
    "         self.head = new_node\n",
    "         return\n",
    "     else:\n",
    "         while h.next!=None:\n",
    "             h = h.next\n",
    "         h.next = new_node\n",
    "\n",
    "   def remove_zeros_from_linkedlist(self, head):\n",
    "     stack = []\n",
    "     curr = head\n",
    "     list = []\n",
    "     while (curr):\n",
    "         if curr.data >= 0:\n",
    "             stack.append(curr)\n",
    "         else:\n",
    "             temp = curr\n",
    "             sum = temp.data\n",
    "             flag = False\n",
    "             while (len(stack) != 0):\n",
    "                 temp2 = stack.pop()\n",
    "                 sum += temp2.data\n",
    "                 if sum == 0:\n",
    "                     flag = True\n",
    "                     list = []\n",
    "                     break\n",
    "                 elif sum > 0:\n",
    "                     list.append(temp2)\n",
    "             if not flag:\n",
    "                 if len(list) > 0:\n",
    "                     for i in range(len(list)):\n",
    "                         stack.append(list.pop())\n",
    "                 stack.append(temp)\n",
    "         curr = curr.next\n",
    "     return [i.data for i in stack]\n",
    "\n",
    "if __name__ == \"__main__\":\n",
    " l = Linkedlist()\n",
    "\n",
    " l.append(4)\n",
    " l.append(6)\n",
    " l.append(-10)\n",
    " l.append(8)\n",
    " l.append(9)\n",
    " l.append(10)\n",
    " l.append(-19)\n",
    " l.append(10)\n",
    " l.append(-18)\n",
    " l.append(20)\n",
    " l.append(25)\n",
    " print(l.remove_zeros_from_linkedlist(l.head))"
   ]
  },
  {
   "cell_type": "markdown",
   "id": "b63c9aad",
   "metadata": {},
   "source": [
    "## 2) Reverse a linked list in groups of given size"
   ]
  },
  {
   "cell_type": "code",
   "execution_count": 6,
   "id": "ecf0a82f",
   "metadata": {},
   "outputs": [
    {
     "name": "stdout",
     "output_type": "stream",
     "text": [
      "Given linked list\n",
      "1 2 3 4 5 6 7 8 9 \n",
      "Reversed Linked list\n",
      "3 2 1 6 5 4 "
     ]
    }
   ],
   "source": [
    "class Node:\n",
    "\tdef __init__(self, data):\n",
    "\t\tself.data = data\n",
    "\t\tself.next = None\n",
    "class LinkedList:\n",
    "\n",
    "\t\n",
    "\tdef __init__(self):\n",
    "\t\tself.head = None\n",
    "\tdef reverse(self, head, k):\n",
    "\t\n",
    "\t\tif head == None:\n",
    "\t\t    return None\n",
    "\t\tcurrent = head\n",
    "\t\tnext = None\n",
    "\t\tprev = None\n",
    "\t\tcount = 0\n",
    "\t\n",
    "\t\twhile(current is not None and count < k):\n",
    "\t\t\tnext = current.next\n",
    "\t\t\tcurrent.next = prev\n",
    "\t\t\tprev = current\n",
    "\t\t\tcurrent = next\n",
    "\t\t\tcount += 1\n",
    "\n",
    "\t\t\n",
    "\t\tif next is not None:\n",
    "\t\t\thead.next = self.reverse(next, k)\n",
    "\t\t\treturn prev\n",
    "\n",
    "\n",
    "\tdef push(self, new_data):\n",
    "\t\tnew_node = Node(new_data)\n",
    "\t\tnew_node.next = self.head\n",
    "\t\tself.head = new_node\n",
    "\n",
    "\tdef printList(self):\n",
    "\t\ttemp = self.head\n",
    "\t\twhile(temp):\n",
    "\t\t\tprint(temp.data,end=' ')\n",
    "\t\t\ttemp = temp.next\n",
    "\n",
    "llist = LinkedList()\n",
    "llist.push(9)\n",
    "llist.push(8)\n",
    "llist.push(7)\n",
    "llist.push(6)\n",
    "llist.push(5)\n",
    "llist.push(4)\n",
    "llist.push(3)\n",
    "llist.push(2)\n",
    "llist.push(1)\n",
    "\n",
    "print(\"Given linked list\")\n",
    "llist.printList()\n",
    "llist.head = llist.reverse(llist.head, 3)\n",
    "\n",
    "print (\"\\nReversed Linked list\")\n",
    "llist.printList()\n",
    "\n"
   ]
  },
  {
   "cell_type": "markdown",
   "id": "3d67514f",
   "metadata": {},
   "source": [
    "## 3) Merge a linked list into another linked list at alternate positions.\n"
   ]
  },
  {
   "cell_type": "code",
   "execution_count": 5,
   "id": "3c8a8c21",
   "metadata": {},
   "outputs": [
    {
     "name": "stdout",
     "output_type": "stream",
     "text": [
      "First Linked List:\n",
      "0\n",
      "1\n",
      "2\n",
      "3\n",
      "Second Linked List:\n",
      "4\n",
      "5\n",
      "6\n",
      "7\n",
      "8\n",
      "Modified first linked list:\n",
      "0\n",
      "4\n",
      "1\n",
      "5\n",
      "2\n",
      "6\n",
      "3\n",
      "7\n",
      "Modified second linked list:\n",
      "8\n"
     ]
    }
   ],
   "source": [
    "class Node(object):\n",
    "\tdef __init__(self, data:int):\n",
    "\t\tself.data = data\n",
    "\t\tself.next = None\n",
    "\n",
    "class LinkedList(object):\n",
    "\tdef __init__(self):\n",
    "\t\tself.head = None\n",
    "\t\t\n",
    "\tdef push(self, new_data:int):\n",
    "\t\tnew_node = Node(new_data)\n",
    "\t\tnew_node.next = self.head\n",
    "\t\n",
    "\t\tself.head = new_node\n",
    "\t\t\n",
    "\tdef printList(self):\n",
    "\t\ttemp = self.head\n",
    "\t\twhile temp != None:\n",
    "\t\t\tprint(temp.data)\n",
    "\t\t\ttemp = temp.next\n",
    "\n",
    "\tdef merge(self, p, q):\n",
    "\t\tp_curr = p.head\n",
    "\t\tq_curr = q.head\n",
    "\n",
    "\t\twhile p_curr != None and q_curr != None:\n",
    "\n",
    "\t\t\t\n",
    "\t\t\tp_next = p_curr.next\n",
    "\t\t\tq_next = q_curr.next\n",
    "\n",
    "\n",
    "\t\t\tq_curr.next = p_next \n",
    "\t\t\tp_curr.next = q_curr \n",
    "\t\t\tp_curr = p_next\n",
    "\t\t\tq_curr = q_next\n",
    "\t\t\tq.head = q_curr\n",
    "\n",
    "llist1 = LinkedList()\n",
    "llist2 = LinkedList()\n",
    "\n",
    "llist1.push(3)\n",
    "llist1.push(2)\n",
    "llist1.push(1)\n",
    "llist1.push(0)\n",
    "\n",
    "for i in range(8, 3, -1):\n",
    "\tllist2.push(i)\n",
    "\n",
    "print(\"First Linked List:\")\n",
    "llist1.printList()\n",
    "\n",
    "print(\"Second Linked List:\")\n",
    "llist2.printList()\n",
    "\n",
    "llist1.merge(p=llist1, q=llist2)\n",
    "\n",
    "print(\"Modified first linked list:\")\n",
    "llist1.printList()\n",
    "\n",
    "print(\"Modified second linked list:\")\n",
    "llist2.printList()\n",
    "\n"
   ]
  },
  {
   "cell_type": "markdown",
   "id": "4a657ef9",
   "metadata": {},
   "source": [
    "## 4) In an array, Count Pairs with given sum"
   ]
  },
  {
   "cell_type": "code",
   "execution_count": 23,
   "id": "4bdd249c",
   "metadata": {},
   "outputs": [
    {
     "name": "stdout",
     "output_type": "stream",
     "text": [
      "(1, 7)\n",
      "(2, 6)\n",
      "(3, 5)\n",
      "(4, 4)\n",
      "(5, 3)\n",
      "(6, 2)\n",
      "(7, 1)\n",
      "\t\n",
      "count of pairs whose sum is 8 : 7\n"
     ]
    }
   ],
   "source": [
    "l = [1,2,3,4,5,6,7,8,9,10]\n",
    "count = 0\n",
    "for i in l :\n",
    "    for j in l:\n",
    "        if i+j ==8 :\n",
    "            print((i,j))\n",
    "            count +=1\n",
    "print(\"\\t\")            \n",
    "print(\"count of pairs whose sum is 8 :\",count)            "
   ]
  },
  {
   "cell_type": "markdown",
   "id": "c4d64bb1",
   "metadata": {},
   "source": [
    "## 5) Find duplicates in an array"
   ]
  },
  {
   "cell_type": "code",
   "execution_count": 1,
   "id": "a1c596ca",
   "metadata": {},
   "outputs": [
    {
     "name": "stdout",
     "output_type": "stream",
     "text": [
      "[1, 6]\n"
     ]
    }
   ],
   "source": [
    "l = [1,24,1,45,6,7,6]\n",
    "l.sort()\n",
    "nl = []\n",
    "for i in range(len(l)-1) :\n",
    "    if l[i] == l[i+1] :\n",
    "        nl.append(l[i])\n",
    "print(nl)            \n",
    "    "
   ]
  },
  {
   "cell_type": "markdown",
   "id": "837a0ad1",
   "metadata": {},
   "source": [
    "## 6) Find the Kth largest and Kth smallest number in an array"
   ]
  },
  {
   "cell_type": "code",
   "execution_count": 4,
   "id": "6d1247e1",
   "metadata": {},
   "outputs": [
    {
     "name": "stdout",
     "output_type": "stream",
     "text": [
      "3\n",
      "[3, 5, 7, 8, 9, 12, 19, 26] \n",
      "\n",
      "3th smallest number : 7\n",
      "3th largest  number : 12\n"
     ]
    }
   ],
   "source": [
    "l = [12, 3, 5, 7, 19,26,8,9]\n",
    "k = int(input())\n",
    "\n",
    "l.sort() \n",
    "print(l,\"\\n\")\n",
    "print(f\"{k}th smallest number :\",l[k-1])\n",
    "print(f\"{k}th largest  number :\",l[-k])\n"
   ]
  },
  {
   "cell_type": "markdown",
   "id": "aa09ac59",
   "metadata": {},
   "source": [
    "## 7) Move all the negative elements to one side of the array"
   ]
  },
  {
   "cell_type": "code",
   "execution_count": 1,
   "id": "c1a037ac",
   "metadata": {},
   "outputs": [
    {
     "name": "stdout",
     "output_type": "stream",
     "text": [
      "[-1, -6, -1, 1, 4, 4, 6]\n"
     ]
    }
   ],
   "source": [
    "l = [1,2-3,4,-6,-1,4,6]\n",
    "j = 0\n",
    "for i in range(len(l)) :\n",
    "    if l[i] < 0 :\n",
    "        temp = l[i]\n",
    "        l[i] = l[j]\n",
    "        l[j]= temp\n",
    "        j += 1\n",
    "print(l)        \n",
    "        \n",
    "            \n",
    "        \n",
    "        "
   ]
  },
  {
   "cell_type": "markdown",
   "id": "82fe66eb",
   "metadata": {},
   "source": [
    "## 8) Reverse a string using a stack data structure"
   ]
  },
  {
   "cell_type": "code",
   "execution_count": 5,
   "id": "69fae6fc",
   "metadata": {},
   "outputs": [
    {
     "name": "stdout",
     "output_type": "stream",
     "text": [
      "em esreveR\n"
     ]
    }
   ],
   "source": [
    "from collections import deque\n",
    " \n",
    " \n",
    "# Reverse a string using a stack\n",
    "def reverse(s):\n",
    "    # build a stack from characters in the string\n",
    "    stack = deque(s)\n",
    "    # pop all characters from the stack and join them back into a string\n",
    "    return ''.join(stack.pop() for _ in range(len(s)))\n",
    " \n",
    " \n",
    "s = 'Reverse me'\n",
    "s = reverse(s)\n",
    "print(s)\n",
    " \n"
   ]
  },
  {
   "cell_type": "markdown",
   "id": "603624b1",
   "metadata": {},
   "source": [
    "## 9) Evaluate a postfix expression using stack"
   ]
  },
  {
   "cell_type": "code",
   "execution_count": 5,
   "id": "111ae9c7",
   "metadata": {},
   "outputs": [
    {
     "name": "stdout",
     "output_type": "stream",
     "text": [
      "postfix evaluation: -4\n"
     ]
    }
   ],
   "source": [
    "class Evaluate:\n",
    "    def __init__(self, capacity):\n",
    "        self.top = -1\n",
    "        self.capacity = capacity\n",
    "        # This array is used a stack\n",
    "        self.array = [] \n",
    "    \n",
    "    def isEmpty(self):\n",
    "        return True if self.top == -1 else False\n",
    "     \n",
    "    def peek(self):\n",
    "        return self.array[-1]\n",
    "     \n",
    "    def pop(self):\n",
    "        if not self.isEmpty():\n",
    "            self.top -= 1\n",
    "            return self.array.pop()\n",
    "        else:\n",
    "            return \"$\"\n",
    "     \n",
    "    def push(self, op):\n",
    "        self.top += 1\n",
    "        self.array.append(op)\n",
    " \n",
    "    def evaluatePostfix(self, exp):\n",
    "         for i in exp:\n",
    "            if i.isdigit():\n",
    "                self.push(i)\n",
    "            else:\n",
    "                val1 = self.pop()\n",
    "                val2 = self.pop()\n",
    "                self.push(str(eval(val2 + i + val1)))\n",
    " \n",
    "         return int(self.pop())\n",
    "                 \n",
    " \n",
    "exp = \"231*+9-\"\n",
    "obj = Evaluate(len(exp))\n",
    "print (\"postfix evaluation: %d\"%(obj.evaluatePostfix(exp)))\n"
   ]
  },
  {
   "cell_type": "markdown",
   "id": "14a92d79",
   "metadata": {},
   "source": [
    "## 10) Implement a queue using the stack data structure"
   ]
  },
  {
   "cell_type": "code",
   "execution_count": 8,
   "id": "9d9802b3",
   "metadata": {},
   "outputs": [
    {
     "name": "stdout",
     "output_type": "stream",
     "text": [
      "1\n",
      "2\n",
      "3\n"
     ]
    }
   ],
   "source": [
    "class Queue: \n",
    "    def __init__(self):\n",
    "        self.s1 = []\n",
    "        self.s2 = []\n",
    "  \n",
    "    def enQueue(self, x):\n",
    "\n",
    "        while len(self.s1) != 0: \n",
    "            self.s2.append(self.s1[-1]) \n",
    "            self.s1.pop()\n",
    "\n",
    "        self.s1.append(x) \n",
    "\n",
    "        while len(self.s2) != 0: \n",
    "            self.s1.append(self.s2[-1]) \n",
    "            self.s2.pop()\n",
    "\n",
    "    def deQueue(self):\n",
    "\n",
    "        if len(self.s1) == 0: \n",
    "            print(\"Q is Empty\")\n",
    "      \n",
    "        # Return top of self.s1 \n",
    "        x = self.s1[-1] \n",
    "        self.s1.pop() \n",
    "        return x\n",
    "\n",
    "    q = Queue()\n",
    "    q.enQueue(1) \n",
    "    q.enQueue(2) \n",
    "    q.enQueue(3) \n",
    "  \n",
    "    print(q.deQueue())\n",
    "    print(q.deQueue())\n",
    "    print(q.deQueue())"
   ]
  },
  {
   "cell_type": "code",
   "execution_count": null,
   "id": "36365eb7",
   "metadata": {},
   "outputs": [],
   "source": []
  }
 ],
 "metadata": {
  "interpreter": {
   "hash": "eaa74586375ce4ae0917e5b89fd5b31b7058e6cd9616bdac2a71ee13725187af"
  },
  "kernelspec": {
   "display_name": "Python 3.10.2 64-bit",
   "language": "python",
   "name": "python3"
  },
  "language_info": {
   "codemirror_mode": {
    "name": "ipython",
    "version": 3
   },
   "file_extension": ".py",
   "mimetype": "text/x-python",
   "name": "python",
   "nbconvert_exporter": "python",
   "pygments_lexer": "ipython3",
   "version": "3.10.2"
  }
 },
 "nbformat": 4,
 "nbformat_minor": 5
}
