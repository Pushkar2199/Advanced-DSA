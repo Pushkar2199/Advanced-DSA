{
 "cells": [
  {
   "cell_type": "markdown",
   "id": "3f22184e",
   "metadata": {},
   "source": [
    "## 1) Breadth First Traversal for a Graph"
   ]
  },
  {
   "cell_type": "code",
   "execution_count": 4,
   "id": "049ae0e0",
   "metadata": {},
   "outputs": [
    {
     "name": "stdout",
     "output_type": "stream",
     "text": [
      "Breadth First Traversals from vertex 2 2 0 3 1 "
     ]
    }
   ],
   "source": [
    "from collections import defaultdict\n",
    "class Graph:\n",
    "    def __init__(self):\n",
    "        self.graph = defaultdict(list)\n",
    "    def addEdge(self,u,v):\n",
    "        self.graph[u].append(v)\n",
    " \n",
    "    def BFS(self, s):\n",
    "        visited = [False] * (max(self.graph) + 1)\n",
    "        queue = []\n",
    "\n",
    "        queue.append(s)\n",
    "        visited[s] = True\n",
    " \n",
    "        while queue:\n",
    "            s = queue.pop(0)\n",
    "            print (s, end = \" \")\n",
    "            for i in self.graph[s]:\n",
    "                if visited[i] == False:\n",
    "                    queue.append(i)\n",
    "                    visited[i] = True\n",
    "g = Graph()\n",
    "g.addEdge(0, 1)\n",
    "g.addEdge(0, 2)\n",
    "g.addEdge(1, 2)\n",
    "g.addEdge(2, 0)\n",
    "g.addEdge(2, 3)\n",
    "g.addEdge(3, 3)\n",
    " \n",
    "print (\"Breadth First Traversals from vertex 2\",end = \" \")\n",
    "g.BFS(2)"
   ]
  },
  {
   "cell_type": "markdown",
   "id": "ef71d089",
   "metadata": {},
   "source": [
    "## 2) Depth First Traversal for a Graph"
   ]
  },
  {
   "cell_type": "code",
   "execution_count": 9,
   "id": "bf625996",
   "metadata": {},
   "outputs": [
    {
     "name": "stdout",
     "output_type": "stream",
     "text": [
      " DFS from starting from vertex 2 :  2 0 1 3 "
     ]
    }
   ],
   "source": [
    "from collections import defaultdict\n",
    " \n",
    "class Graph:\n",
    "    def __init__(self):\n",
    "        self.graph = defaultdict(list)\n",
    " \n",
    "    def addEdge(self, u, v):\n",
    "        self.graph[u].append(v)\n",
    "\n",
    "    def DFSUtil(self, v, visited):\n",
    "        visited.add(v)\n",
    "        print(v, end=' ')\n",
    "\n",
    "        for neighbour in self.graph[v]:\n",
    "            if neighbour not in visited:\n",
    "                self.DFSUtil(neighbour, visited)\n",
    " \n",
    "    def DFS(self, v):\n",
    "        visited = set()\n",
    "        self.DFSUtil(v, visited)\n",
    "\n",
    "g = Graph()\n",
    "g.addEdge(0, 1)\n",
    "g.addEdge(0, 2)\n",
    "g.addEdge(1, 2)\n",
    "g.addEdge(2, 0)\n",
    "g.addEdge(2, 3)\n",
    "g.addEdge(3, 3)\n",
    " \n",
    "print(\" DFS from starting from vertex 2 : \",end = \" \")\n",
    "g.DFS(2)"
   ]
  },
  {
   "cell_type": "markdown",
   "id": "841f0208",
   "metadata": {},
   "source": [
    "## 3) Count the number of nodes at given level in a tree using BFS"
   ]
  },
  {
   "cell_type": "code",
   "execution_count": 17,
   "id": "3c5299ea",
   "metadata": {},
   "outputs": [
    {
     "name": "stdout",
     "output_type": "stream",
     "text": [
      "the number of nodes  :  3\n"
     ]
    }
   ],
   "source": [
    "from collections import deque\n",
    "  \n",
    "adj = [[] for i in range(1001)]\n",
    "  \n",
    "def addEdge(v, w):\n",
    "    adj[v].append(w)\n",
    "    adj[w].append(v)\n",
    "    \n",
    "def BFS(s, l): \n",
    "    V = 100\n",
    "    visited = [False] * V\n",
    "    level = [0] * V\n",
    "  \n",
    "    for i in range(V):\n",
    "        visited[i] = False\n",
    "        level[i] = 0\n",
    "    queue = deque()\n",
    "    visited[s] = True\n",
    "    queue.append(s)\n",
    "    level[s] = 0\n",
    "  \n",
    "    while (len(queue) > 0):\n",
    "        s = queue.popleft()\n",
    "        for i in adj[s]:\n",
    "            if (not visited[i]):\n",
    "                level[i] = level[s] + 1\n",
    "                visited[i] = True\n",
    "                queue.append(i)\n",
    "    count = 0\n",
    "    for i in range(V):\n",
    "        if (level[i] == l):\n",
    "            count += 1\n",
    "    return count\n",
    "addEdge(0, 1)\n",
    "addEdge(0, 2)\n",
    "addEdge(1, 3)\n",
    "addEdge(2, 4)\n",
    "addEdge(2, 5)\n",
    "level = 2\n",
    "\n",
    "print(\"the number of nodes  : \" ,BFS(0, level)) \n"
   ]
  },
  {
   "cell_type": "markdown",
   "id": "806dc88f",
   "metadata": {},
   "source": [
    "## 4) Count number of trees in a forest"
   ]
  },
  {
   "cell_type": "code",
   "execution_count": 6,
   "id": "f7398a4a",
   "metadata": {},
   "outputs": [
    {
     "name": "stdout",
     "output_type": "stream",
     "text": [
      "2\n"
     ]
    }
   ],
   "source": [
    "def Insert_Edge(Graph, u, v): \n",
    "    Graph[u].append(v) \n",
    "    Graph[v].append(u) \n",
    "\n",
    "def D_F_S_Traversal(u, Graph, Check_visited): \n",
    "    Check_visited[u] = True\n",
    "    for i in range(len(Graph[u])): \n",
    "        if (Check_visited[Graph[u][i]] == False): \n",
    "            D_F_S_Traversal(Graph[u][i], Graph, Check_visited) \n",
    "\n",
    "def Count_Tree(Graph, V): \n",
    "    Check_visited = [False] * V \n",
    "    res = 0\n",
    "    for u in range(V): \n",
    "        if (Check_visited[u] == False): \n",
    "            D_F_S_Traversal(u, Graph, Check_visited) \n",
    "            res += 1\n",
    "    return res \n",
    "\n",
    "V = 7\n",
    "Graph = [[] for i in range(V)] \n",
    "Insert_Edge(Graph, 0, 1) \n",
    "Insert_Edge(Graph, 0, 2) \n",
    "Insert_Edge(Graph, 3, 4)\n",
    "Insert_Edge(Graph, 4, 5) \n",
    "Insert_Edge(Graph, 5, 6) \n",
    "print(Count_Tree(Graph, V))"
   ]
  },
  {
   "cell_type": "markdown",
   "id": "e785feea",
   "metadata": {},
   "source": [
    " ## 5) Detect Cycle in a Directed Graph"
   ]
  },
  {
   "cell_type": "code",
   "execution_count": 8,
   "id": "c487f61c",
   "metadata": {},
   "outputs": [
    {
     "name": "stdout",
     "output_type": "stream",
     "text": [
      "Graph has a cycle\n"
     ]
    }
   ],
   "source": [
    "from collections import defaultdict\n",
    "class Graph():\n",
    "    def __init__(self,vertices):\n",
    "        self.graph = defaultdict(list)\n",
    "        self.V = vertices\n",
    " \n",
    "    def addEdge(self,u,v):\n",
    "        self.graph[u].append(v)\n",
    " \n",
    "    def isCyclicUtil(self, v, visited, recStack):\n",
    "\n",
    "        visited[v] = True\n",
    "        recStack[v] = True\n",
    "        \n",
    "        for neighbour in self.graph[v]:\n",
    "            if visited[neighbour] == False:\n",
    "                if self.isCyclicUtil(neighbour, visited, recStack) == True:\n",
    "                    return True\n",
    "            elif recStack[neighbour] == True:\n",
    "                return True\n",
    "        recStack[v] = False\n",
    "        return False\n",
    "\n",
    "    def isCyclic(self):\n",
    "        visited = [False] * (self.V + 1)\n",
    "        recStack = [False] * (self.V + 1)\n",
    "        for node in range(self.V):\n",
    "            if visited[node] == False:\n",
    "                if self.isCyclicUtil(node,visited,recStack) == True:\n",
    "                    return True\n",
    "        return False\n",
    "    \n",
    "g = Graph(4)\n",
    "g.addEdge(0, 1)\n",
    "g.addEdge(0, 2)\n",
    "g.addEdge(1, 2)\n",
    "g.addEdge(2, 0)\n",
    "g.addEdge(2, 3)\n",
    "g.addEdge(3, 3)\n",
    "if g.isCyclic() == 1:\n",
    "    print(\"Graph has a cycle\")\n",
    "else:\n",
    "    print(\"Graph has no cycle\")\n",
    " "
   ]
  },
  {
   "cell_type": "code",
   "execution_count": null,
   "id": "b62d7174",
   "metadata": {},
   "outputs": [],
   "source": []
  }
 ],
 "metadata": {
  "kernelspec": {
   "display_name": "Python 3 (ipykernel)",
   "language": "python",
   "name": "python3"
  },
  "language_info": {
   "codemirror_mode": {
    "name": "ipython",
    "version": 3
   },
   "file_extension": ".py",
   "mimetype": "text/x-python",
   "name": "python",
   "nbconvert_exporter": "python",
   "pygments_lexer": "ipython3",
   "version": "3.10.2"
  }
 },
 "nbformat": 4,
 "nbformat_minor": 5
}
